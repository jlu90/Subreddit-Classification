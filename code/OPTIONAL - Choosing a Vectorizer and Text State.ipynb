{
 "cells": [
  {
   "cell_type": "markdown",
   "metadata": {},
   "source": [
    "# Model Preparation, Modeling, and Model Selection"
   ]
  },
  {
   "cell_type": "markdown",
   "metadata": {},
   "source": [
    "## Imports"
   ]
  },
  {
   "cell_type": "code",
   "execution_count": 57,
   "metadata": {},
   "outputs": [],
   "source": [
    "import pandas as pd\n",
    "import numpy as np\n",
    "from sklearn.model_selection import train_test_split, cross_val_score, GridSearchCV\n",
    "from sklearn.compose import ColumnTransformer\n",
    "from sklearn.pipeline import Pipeline\n",
    "from sklearn.preprocessing import StandardScaler, RobustScaler\n",
    "from sklearn.feature_extraction.text import CountVectorizer, TfidfVectorizer\n",
    "from sklearn.linear_model import LogisticRegression\n",
    "from sklearn.neighbors import KNeighborsClassifier\n",
    "from sklearn.naive_bayes import MultinomialNB\n",
    "from sklearn.tree import DecisionTreeClassifier\n",
    "from sklearn.ensemble import BaggingClassifier\n",
    "\n",
    "RANDOM_STATE = 42"
   ]
  },
  {
   "cell_type": "markdown",
   "metadata": {},
   "source": [
    "## Read-In Data"
   ]
  },
  {
   "cell_type": "code",
   "execution_count": 2,
   "metadata": {},
   "outputs": [],
   "source": [
    "subreddits = pd.read_csv('../data/subreddits_preprocessed.csv')\n",
    "subreddits.drop(columns = 'Unnamed: 0', inplace = True)"
   ]
  },
  {
   "cell_type": "markdown",
   "metadata": {},
   "source": [
    "## Model Preparation"
   ]
  },
  {
   "cell_type": "markdown",
   "metadata": {},
   "source": [
    "When beginning to model the data, I was not sure if the original text, lemmatized text, or stemmed text would perform better in models or if a CountVectorizer or if a Tfidf Vectorizer would be better. Due to it's computational speed, I built grid searched over a logistic regression pipeline for each combination (E.g. Original + Count, Original + Tfidf, etc.)"
   ]
  },
  {
   "cell_type": "markdown",
   "metadata": {},
   "source": [
    "### Train Test Split"
   ]
  },
  {
   "cell_type": "code",
   "execution_count": 3,
   "metadata": {},
   "outputs": [],
   "source": [
    "common_features = ['num_comments', 'score', 'post_length_char', 'post_length_words', 'polarity']"
   ]
  },
  {
   "cell_type": "markdown",
   "metadata": {},
   "source": [
    "#### Original Data"
   ]
  },
  {
   "cell_type": "code",
   "execution_count": 4,
   "metadata": {},
   "outputs": [],
   "source": [
    "X_original = subreddits[common_features + ['original_text']]\n",
    "y_original = subreddits['is_unethical']"
   ]
  },
  {
   "cell_type": "code",
   "execution_count": 5,
   "metadata": {},
   "outputs": [],
   "source": [
    "X_original_train, X_original_test, y_original_train, y_original_test = train_test_split(X_original, y_original, test_size = 0.3, random_state = RANDOM_STATE, stratify = y_original)"
   ]
  },
  {
   "cell_type": "markdown",
   "metadata": {},
   "source": [
    "#### Lemmatized Data"
   ]
  },
  {
   "cell_type": "code",
   "execution_count": 6,
   "metadata": {},
   "outputs": [],
   "source": [
    "X_lemma = subreddits[common_features + ['lemma_text']]\n",
    "y_lemma = subreddits['is_unethical']"
   ]
  },
  {
   "cell_type": "code",
   "execution_count": 7,
   "metadata": {},
   "outputs": [],
   "source": [
    "X_lemma_train, X_lemma_test, y_lemma_train, y_lemma_test = train_test_split(X_lemma, y_lemma, test_size = 0.3, random_state = RANDOM_STATE, stratify = y_lemma)"
   ]
  },
  {
   "cell_type": "markdown",
   "metadata": {},
   "source": [
    "#### Stemmed Data"
   ]
  },
  {
   "cell_type": "code",
   "execution_count": 8,
   "metadata": {},
   "outputs": [],
   "source": [
    "X_stem = subreddits[common_features + ['stemmer_text']]\n",
    "y_stem = subreddits['is_unethical']"
   ]
  },
  {
   "cell_type": "code",
   "execution_count": 9,
   "metadata": {},
   "outputs": [],
   "source": [
    "X_stem_train, X_stem_test, y_stem_train, y_stem_test = train_test_split(X_stem, y_stem, test_size = 0.3, random_state = RANDOM_STATE, stratify = y_original)"
   ]
  },
  {
   "cell_type": "markdown",
   "metadata": {},
   "source": [
    "### Build Column Transformers to Only Apply Vectorizers to Text Features"
   ]
  },
  {
   "cell_type": "markdown",
   "metadata": {},
   "source": [
    "I used this [source](https://towardsdatascience.com/columntransformer-meets-natural-language-processing-da1f116dd69f) for guidance during this process."
   ]
  },
  {
   "cell_type": "code",
   "execution_count": 10,
   "metadata": {},
   "outputs": [],
   "source": [
    "ct_cvec_original = ColumnTransformer([\n",
    "    ('cvec', CountVectorizer(), 'original_text'),], \n",
    "    remainder='passthrough')"
   ]
  },
  {
   "cell_type": "code",
   "execution_count": 11,
   "metadata": {},
   "outputs": [],
   "source": [
    "ct_cvec_lemma = ColumnTransformer([\n",
    "    ('cvec', CountVectorizer(), 'lemma_text'),], \n",
    "    remainder='passthrough')"
   ]
  },
  {
   "cell_type": "code",
   "execution_count": 12,
   "metadata": {},
   "outputs": [],
   "source": [
    "ct_cvec_stemmed = ColumnTransformer([\n",
    "    ('cvec', CountVectorizer(), 'stemmer_text'),], \n",
    "    remainder='passthrough')"
   ]
  },
  {
   "cell_type": "code",
   "execution_count": 13,
   "metadata": {},
   "outputs": [],
   "source": [
    "ct_tfidf_original = ColumnTransformer([\n",
    "    ('tfidf', TfidfVectorizer(), 'original_text'),], \n",
    "    remainder='passthrough')"
   ]
  },
  {
   "cell_type": "code",
   "execution_count": 14,
   "metadata": {},
   "outputs": [],
   "source": [
    "ct_tfidf_lemma = ColumnTransformer([\n",
    "    ('tfidf', TfidfVectorizer(), 'lemma_text'),], \n",
    "    remainder='passthrough')"
   ]
  },
  {
   "cell_type": "code",
   "execution_count": 15,
   "metadata": {},
   "outputs": [],
   "source": [
    "ct_tfidf_stemmed = ColumnTransformer([\n",
    "    ('tfidf', TfidfVectorizer(), 'stemmer_text'),], \n",
    "    remainder='passthrough')"
   ]
  },
  {
   "cell_type": "markdown",
   "metadata": {},
   "source": [
    "## Modeling"
   ]
  },
  {
   "cell_type": "markdown",
   "metadata": {},
   "source": [
    "### Logistic Regression Pipelines"
   ]
  },
  {
   "cell_type": "markdown",
   "metadata": {},
   "source": [
    "#### Count Vectorizer with Original Text"
   ]
  },
  {
   "cell_type": "code",
   "execution_count": 16,
   "metadata": {},
   "outputs": [],
   "source": [
    "# Build Pipeline\n",
    "logr_cv_pipe = Pipeline([\n",
    "    ('ct_cvec_original', ct_cvec_original),\n",
    "    ('rs', RobustScaler(with_centering = False)),\n",
    "    ('logr', LogisticRegression(solver = 'liblinear', max_iter = 200))\n",
    "])\n",
    "\n",
    "# Make param grid for grid search\n",
    "logr_cv_params = {\n",
    "    'ct_cvec_original__cvec__stop_words': [None],\n",
    "    'ct_cvec_original__cvec__ngram_range': [(1,2)],\n",
    "    'ct_cvec_original__cvec__min_df': [2],\n",
    "    'ct_cvec_original__cvec__max_df': [0.95],\n",
    "    'logr__penalty' :['l2'],\n",
    "    'logr__C' : [ 1]   \n",
    "}\n",
    "\n",
    "# Instantiate grid search\n",
    "gs_logreg_cv = GridSearchCV(logr_cv_pipe,\n",
    "                           param_grid = logr_cv_params,\n",
    "                           verbose = 1,\n",
    "                           cv = 5)"
   ]
  },
  {
   "cell_type": "code",
   "execution_count": 17,
   "metadata": {},
   "outputs": [
    {
     "name": "stdout",
     "output_type": "stream",
     "text": [
      "Fitting 5 folds for each of 1 candidates, totalling 5 fits\n"
     ]
    },
    {
     "name": "stderr",
     "output_type": "stream",
     "text": [
      "[Parallel(n_jobs=1)]: Using backend SequentialBackend with 1 concurrent workers.\n",
      "[Parallel(n_jobs=1)]: Done   5 out of   5 | elapsed:   13.6s finished\n"
     ]
    }
   ],
   "source": [
    "gs_logreg_cv.fit(X_original_train, y_original_train);"
   ]
  },
  {
   "cell_type": "code",
   "execution_count": 18,
   "metadata": {},
   "outputs": [
    {
     "data": {
      "text/plain": [
       "{'ct_cvec_original__cvec__max_df': 0.95,\n",
       " 'ct_cvec_original__cvec__min_df': 2,\n",
       " 'ct_cvec_original__cvec__ngram_range': (1, 2),\n",
       " 'ct_cvec_original__cvec__stop_words': None,\n",
       " 'logr__C': 1,\n",
       " 'logr__penalty': 'l2'}"
      ]
     },
     "execution_count": 18,
     "metadata": {},
     "output_type": "execute_result"
    }
   ],
   "source": [
    "gs_logreg_cv.best_params_"
   ]
  },
  {
   "cell_type": "code",
   "execution_count": 19,
   "metadata": {},
   "outputs": [
    {
     "data": {
      "text/plain": [
       "0.7817850167886176"
      ]
     },
     "execution_count": 19,
     "metadata": {},
     "output_type": "execute_result"
    }
   ],
   "source": [
    "gs_logreg_cv.best_score_"
   ]
  },
  {
   "cell_type": "code",
   "execution_count": 20,
   "metadata": {},
   "outputs": [
    {
     "data": {
      "text/plain": [
       "0.9973209936678032"
      ]
     },
     "execution_count": 20,
     "metadata": {},
     "output_type": "execute_result"
    }
   ],
   "source": [
    "gs_logreg_cv.score(X_original_train, y_original_train)"
   ]
  },
  {
   "cell_type": "code",
   "execution_count": 21,
   "metadata": {},
   "outputs": [
    {
     "data": {
      "text/plain": [
       "0.7910278250993753"
      ]
     },
     "execution_count": 21,
     "metadata": {},
     "output_type": "execute_result"
    }
   ],
   "source": [
    "gs_logreg_cv.score(X_original_test, y_original_test)"
   ]
  },
  {
   "cell_type": "markdown",
   "metadata": {},
   "source": [
    "#### Count Vectorizer with Lemma Text"
   ]
  },
  {
   "cell_type": "code",
   "execution_count": 22,
   "metadata": {},
   "outputs": [],
   "source": [
    "logr_cv_pipe = Pipeline([\n",
    "    ('ct_cvec_lemma', ct_cvec_lemma),\n",
    "    ('rs', RobustScaler(with_centering = False)),\n",
    "    ('logr', LogisticRegression(solver = 'liblinear', max_iter = 200))\n",
    "])\n",
    "\n",
    "# Make param grid for grid search\n",
    "logr_cv_params = {\n",
    "    'ct_cvec_lemma__cvec__stop_words': [None],\n",
    "    'ct_cvec_lemma__cvec__ngram_range': [(1,2)],\n",
    "    'ct_cvec_lemma__cvec__min_df': [2],\n",
    "    'ct_cvec_lemma__cvec__max_df': [0.95],\n",
    "    'logr__penalty' :['l2'],\n",
    "    'logr__C' : [1]   \n",
    "}\n",
    "\n",
    "# Instantiate grid search\n",
    "gs_logreg_cv = GridSearchCV(logr_cv_pipe,\n",
    "                           param_grid = logr_cv_params,\n",
    "                           verbose = 1,\n",
    "                           cv = 5)"
   ]
  },
  {
   "cell_type": "code",
   "execution_count": 23,
   "metadata": {},
   "outputs": [
    {
     "name": "stdout",
     "output_type": "stream",
     "text": [
      "Fitting 5 folds for each of 1 candidates, totalling 5 fits\n"
     ]
    },
    {
     "name": "stderr",
     "output_type": "stream",
     "text": [
      "[Parallel(n_jobs=1)]: Using backend SequentialBackend with 1 concurrent workers.\n",
      "[Parallel(n_jobs=1)]: Done   5 out of   5 | elapsed:   12.7s finished\n"
     ]
    }
   ],
   "source": [
    "gs_logreg_cv.fit(X_lemma_train, y_lemma_train);"
   ]
  },
  {
   "cell_type": "code",
   "execution_count": 24,
   "metadata": {},
   "outputs": [
    {
     "data": {
      "text/plain": [
       "{'ct_cvec_lemma__cvec__max_df': 0.95,\n",
       " 'ct_cvec_lemma__cvec__min_df': 2,\n",
       " 'ct_cvec_lemma__cvec__ngram_range': (1, 2),\n",
       " 'ct_cvec_lemma__cvec__stop_words': None,\n",
       " 'logr__C': 1,\n",
       " 'logr__penalty': 'l2'}"
      ]
     },
     "execution_count": 24,
     "metadata": {},
     "output_type": "execute_result"
    }
   ],
   "source": [
    "gs_logreg_cv.best_params_"
   ]
  },
  {
   "cell_type": "code",
   "execution_count": 25,
   "metadata": {},
   "outputs": [
    {
     "data": {
      "text/plain": [
       "0.7905512534414444"
      ]
     },
     "execution_count": 25,
     "metadata": {},
     "output_type": "execute_result"
    }
   ],
   "source": [
    "gs_logreg_cv.best_score_"
   ]
  },
  {
   "cell_type": "code",
   "execution_count": 26,
   "metadata": {},
   "outputs": [
    {
     "data": {
      "text/plain": [
       "0.997564539698003"
      ]
     },
     "execution_count": 26,
     "metadata": {},
     "output_type": "execute_result"
    }
   ],
   "source": [
    "gs_logreg_cv.score(X_lemma_train, y_lemma_train)"
   ]
  },
  {
   "cell_type": "code",
   "execution_count": 27,
   "metadata": {},
   "outputs": [
    {
     "data": {
      "text/plain": [
       "0.7847813742191937"
      ]
     },
     "execution_count": 27,
     "metadata": {},
     "output_type": "execute_result"
    }
   ],
   "source": [
    "gs_logreg_cv.score(X_lemma_test, y_lemma_test)"
   ]
  },
  {
   "cell_type": "markdown",
   "metadata": {},
   "source": [
    "#### Count Vectorizer with Stemmed Text"
   ]
  },
  {
   "cell_type": "code",
   "execution_count": 51,
   "metadata": {},
   "outputs": [],
   "source": [
    "logr_cv_pipe = Pipeline([\n",
    "    ('ct_cvec_stemmed', ct_cvec_stemmed),\n",
    "    ('rs', RobustScaler(with_centering = False)),\n",
    "    ('logr', LogisticRegression(solver = 'liblinear', max_iter = 200))\n",
    "])\n",
    "\n",
    "# Make param grid for grid search\n",
    "logr_cv_params = {\n",
    "    'ct_cvec_stemmed__cvec__stop_words': [None],\n",
    "    'ct_cvec_stemmed__cvec__ngram_range': [(1,2)],\n",
    "    'ct_cvec_stemmed__cvec__min_df': [2],\n",
    "    'ct_cvec_stemmed__cvec__max_df': [0.95],\n",
    "    'logr__penalty' :['l2'],\n",
    "    'logr__C' : [1]   \n",
    "}\n",
    "\n",
    "# Instantiate grid search\n",
    "gs_logreg_cv = GridSearchCV(logr_cv_pipe,\n",
    "                           param_grid = logr_cv_params,\n",
    "                           verbose = 1,\n",
    "                           cv = 5)"
   ]
  },
  {
   "cell_type": "code",
   "execution_count": 52,
   "metadata": {},
   "outputs": [
    {
     "name": "stdout",
     "output_type": "stream",
     "text": [
      "Fitting 5 folds for each of 1 candidates, totalling 5 fits\n"
     ]
    },
    {
     "name": "stderr",
     "output_type": "stream",
     "text": [
      "[Parallel(n_jobs=1)]: Using backend SequentialBackend with 1 concurrent workers.\n",
      "[Parallel(n_jobs=1)]: Done   5 out of   5 | elapsed:   12.9s finished\n"
     ]
    }
   ],
   "source": [
    "gs_logreg_cv.fit(X_stem_train, y_stem_train);"
   ]
  },
  {
   "cell_type": "code",
   "execution_count": 53,
   "metadata": {},
   "outputs": [
    {
     "data": {
      "text/plain": [
       "{'ct_cvec_stemmed__cvec__max_df': 0.95,\n",
       " 'ct_cvec_stemmed__cvec__min_df': 2,\n",
       " 'ct_cvec_stemmed__cvec__ngram_range': (1, 2),\n",
       " 'ct_cvec_stemmed__cvec__stop_words': None,\n",
       " 'logr__C': 1,\n",
       " 'logr__penalty': 'l2'}"
      ]
     },
     "execution_count": 53,
     "metadata": {},
     "output_type": "execute_result"
    }
   ],
   "source": [
    "gs_logreg_cv.best_params_"
   ]
  },
  {
   "cell_type": "code",
   "execution_count": 54,
   "metadata": {},
   "outputs": [
    {
     "data": {
      "text/plain": [
       "0.7864129259018882"
      ]
     },
     "execution_count": 54,
     "metadata": {},
     "output_type": "execute_result"
    }
   ],
   "source": [
    "gs_logreg_cv.best_score_"
   ]
  },
  {
   "cell_type": "code",
   "execution_count": 55,
   "metadata": {},
   "outputs": [
    {
     "data": {
      "text/plain": [
       "0.9978080857282027"
      ]
     },
     "execution_count": 55,
     "metadata": {},
     "output_type": "execute_result"
    }
   ],
   "source": [
    "gs_logreg_cv.score(X_stem_train, y_stem_train)"
   ]
  },
  {
   "cell_type": "code",
   "execution_count": 56,
   "metadata": {},
   "outputs": [
    {
     "data": {
      "text/plain": [
       "0.7904599659284497"
      ]
     },
     "execution_count": 56,
     "metadata": {},
     "output_type": "execute_result"
    }
   ],
   "source": [
    "gs_logreg_cv.score(X_stem_test, y_stem_test)"
   ]
  },
  {
   "cell_type": "markdown",
   "metadata": {},
   "source": [
    "#### Tfidf Vectorizer with Original Text"
   ]
  },
  {
   "cell_type": "code",
   "execution_count": 33,
   "metadata": {},
   "outputs": [],
   "source": [
    "logr_cv_pipe = Pipeline([\n",
    "    ('ct_tfidf_original', ct_tfidf_original),\n",
    "    ('rs', RobustScaler(with_centering = False)),\n",
    "    ('logr', LogisticRegression(solver = 'liblinear', max_iter = 200))\n",
    "])\n",
    "\n",
    "# Make param grid for grid search\n",
    "logr_cv_params = {\n",
    "    'ct_tfidf_original__tfidf__stop_words': [None],\n",
    "    'ct_tfidf_original__tfidf__ngram_range': [(1,2)],\n",
    "    'ct_tfidf_original__tfidf__min_df': [2],\n",
    "    'ct_tfidf_original__tfidf__max_df': [0.95],\n",
    "    'logr__penalty' :['l2'],\n",
    "    'logr__C' : [10]   \n",
    "}\n",
    "\n",
    "# Instantiate grid search\n",
    "gs_logreg_cv = GridSearchCV(logr_cv_pipe,\n",
    "                           param_grid = logr_cv_params,\n",
    "                           verbose = 1,\n",
    "                           cv = 5)"
   ]
  },
  {
   "cell_type": "code",
   "execution_count": 34,
   "metadata": {},
   "outputs": [
    {
     "name": "stdout",
     "output_type": "stream",
     "text": [
      "Fitting 5 folds for each of 1 candidates, totalling 5 fits\n"
     ]
    },
    {
     "name": "stderr",
     "output_type": "stream",
     "text": [
      "[Parallel(n_jobs=1)]: Using backend SequentialBackend with 1 concurrent workers.\n",
      "[Parallel(n_jobs=1)]: Done   5 out of   5 | elapsed:   14.3s finished\n"
     ]
    }
   ],
   "source": [
    "gs_logreg_cv.fit(X_original_train, y_original_train);"
   ]
  },
  {
   "cell_type": "code",
   "execution_count": 35,
   "metadata": {},
   "outputs": [
    {
     "data": {
      "text/plain": [
       "{'ct_tfidf_original__tfidf__max_df': 0.95,\n",
       " 'ct_tfidf_original__tfidf__min_df': 2,\n",
       " 'ct_tfidf_original__tfidf__ngram_range': (1, 2),\n",
       " 'ct_tfidf_original__tfidf__stop_words': None,\n",
       " 'logr__C': 10,\n",
       " 'logr__penalty': 'l2'}"
      ]
     },
     "execution_count": 35,
     "metadata": {},
     "output_type": "execute_result"
    }
   ],
   "source": [
    "gs_logreg_cv.best_params_"
   ]
  },
  {
   "cell_type": "code",
   "execution_count": 36,
   "metadata": {},
   "outputs": [
    {
     "data": {
      "text/plain": [
       "0.7976161052185484"
      ]
     },
     "execution_count": 36,
     "metadata": {},
     "output_type": "execute_result"
    }
   ],
   "source": [
    "gs_logreg_cv.best_score_"
   ]
  },
  {
   "cell_type": "code",
   "execution_count": 37,
   "metadata": {},
   "outputs": [
    {
     "data": {
      "text/plain": [
       "0.7898921067575241"
      ]
     },
     "execution_count": 37,
     "metadata": {},
     "output_type": "execute_result"
    }
   ],
   "source": [
    "gs_logreg_cv.score(X_original_test, y_original_test)"
   ]
  },
  {
   "cell_type": "markdown",
   "metadata": {},
   "source": [
    "#### Tfidf Vectorizer with Lemma Text"
   ]
  },
  {
   "cell_type": "code",
   "execution_count": 38,
   "metadata": {},
   "outputs": [],
   "source": [
    "logr_cv_pipe = Pipeline([\n",
    "    ('ct_tfidf_lemma', ct_tfidf_lemma),\n",
    "    ('rs', RobustScaler(with_centering = False)),\n",
    "    ('logr', LogisticRegression(solver = 'liblinear', max_iter = 200))\n",
    "])\n",
    "\n",
    "# Make param grid for grid search\n",
    "logr_cv_params = {\n",
    "    'ct_tfidf_lemma__tfidf__stop_words': [None],\n",
    "    'ct_tfidf_lemma__tfidf__ngram_range': [(1,2)],\n",
    "    'ct_tfidf_lemma__tfidf__min_df': [2],\n",
    "    'ct_tfidf_lemma__tfidf__max_df': [0.95],\n",
    "    'logr__penalty' :['l2'],\n",
    "    'logr__C' : [1000]   \n",
    "}\n",
    "\n",
    "# Instantiate grid search\n",
    "gs_logreg_cv = GridSearchCV(logr_cv_pipe,\n",
    "                           param_grid = logr_cv_params,\n",
    "                           verbose = 1,\n",
    "                           cv = 5)"
   ]
  },
  {
   "cell_type": "code",
   "execution_count": 39,
   "metadata": {},
   "outputs": [
    {
     "name": "stdout",
     "output_type": "stream",
     "text": [
      "Fitting 5 folds for each of 1 candidates, totalling 5 fits\n"
     ]
    },
    {
     "name": "stderr",
     "output_type": "stream",
     "text": [
      "[Parallel(n_jobs=1)]: Using backend SequentialBackend with 1 concurrent workers.\n",
      "[Parallel(n_jobs=1)]: Done   5 out of   5 | elapsed:   14.9s finished\n"
     ]
    }
   ],
   "source": [
    "gs_logreg_cv.fit(X_lemma_train, y_lemma_train);"
   ]
  },
  {
   "cell_type": "code",
   "execution_count": 40,
   "metadata": {},
   "outputs": [
    {
     "data": {
      "text/plain": [
       "{'ct_tfidf_lemma__tfidf__max_df': 0.95,\n",
       " 'ct_tfidf_lemma__tfidf__min_df': 2,\n",
       " 'ct_tfidf_lemma__tfidf__ngram_range': (1, 2),\n",
       " 'ct_tfidf_lemma__tfidf__stop_words': None,\n",
       " 'logr__C': 1000,\n",
       " 'logr__penalty': 'l2'}"
      ]
     },
     "execution_count": 40,
     "metadata": {},
     "output_type": "execute_result"
    }
   ],
   "source": [
    "gs_logreg_cv.best_params_"
   ]
  },
  {
   "cell_type": "code",
   "execution_count": 41,
   "metadata": {},
   "outputs": [
    {
     "data": {
      "text/plain": [
       "0.7978591178640967"
      ]
     },
     "execution_count": 41,
     "metadata": {},
     "output_type": "execute_result"
    }
   ],
   "source": [
    "gs_logreg_cv.best_score_"
   ]
  },
  {
   "cell_type": "code",
   "execution_count": 42,
   "metadata": {},
   "outputs": [
    {
     "data": {
      "text/plain": [
       "0.9995129079396006"
      ]
     },
     "execution_count": 42,
     "metadata": {},
     "output_type": "execute_result"
    }
   ],
   "source": [
    "gs_logreg_cv.score(X_lemma_train, y_lemma_train)"
   ]
  },
  {
   "cell_type": "code",
   "execution_count": 43,
   "metadata": {},
   "outputs": [
    {
     "data": {
      "text/plain": [
       "0.7893242475865985"
      ]
     },
     "execution_count": 43,
     "metadata": {},
     "output_type": "execute_result"
    }
   ],
   "source": [
    "gs_logreg_cv.score(X_lemma_test, y_lemma_test)"
   ]
  },
  {
   "cell_type": "markdown",
   "metadata": {},
   "source": [
    "#### Tfidf Vectorizer with Stemmed Text"
   ]
  },
  {
   "cell_type": "code",
   "execution_count": 44,
   "metadata": {},
   "outputs": [],
   "source": [
    "logr_cv_pipe = Pipeline([\n",
    "    ('ct_tfidf_stemmed', ct_tfidf_stemmed),\n",
    "    ('rs', RobustScaler(with_centering = False)),\n",
    "    ('logr', LogisticRegression(solver = 'liblinear', max_iter = 200))\n",
    "])\n",
    "\n",
    "# Make param grid for grid search\n",
    "logr_cv_params = {\n",
    "    'ct_tfidf_stemmed__tfidf__stop_words': [None],\n",
    "    'ct_tfidf_stemmed__tfidf__ngram_range': [(1,2)],\n",
    "    'ct_tfidf_stemmed__tfidf__min_df': [2],\n",
    "    'ct_tfidf_stemmed__tfidf__max_df': [0.95],\n",
    "    'logr__penalty' :['l2'],\n",
    "    'logr__C' : [10]   \n",
    "}\n",
    "\n",
    "# Instantiate grid search\n",
    "gs_logreg_cv = GridSearchCV(logr_cv_pipe,\n",
    "                           param_grid = logr_cv_params,\n",
    "                           verbose = 1,\n",
    "                           cv = 5)"
   ]
  },
  {
   "cell_type": "code",
   "execution_count": 45,
   "metadata": {},
   "outputs": [
    {
     "name": "stdout",
     "output_type": "stream",
     "text": [
      "Fitting 5 folds for each of 1 candidates, totalling 5 fits\n"
     ]
    },
    {
     "name": "stderr",
     "output_type": "stream",
     "text": [
      "[Parallel(n_jobs=1)]: Using backend SequentialBackend with 1 concurrent workers.\n",
      "[Parallel(n_jobs=1)]: Done   5 out of   5 | elapsed:   14.4s finished\n"
     ]
    }
   ],
   "source": [
    "gs_logreg_cv.fit(X_stem_train, y_stem_train);"
   ]
  },
  {
   "cell_type": "code",
   "execution_count": 46,
   "metadata": {},
   "outputs": [
    {
     "data": {
      "text/plain": [
       "{'ct_tfidf_stemmed__tfidf__max_df': 0.95,\n",
       " 'ct_tfidf_stemmed__tfidf__min_df': 2,\n",
       " 'ct_tfidf_stemmed__tfidf__ngram_range': (1, 2),\n",
       " 'ct_tfidf_stemmed__tfidf__stop_words': None,\n",
       " 'logr__C': 10,\n",
       " 'logr__penalty': 'l2'}"
      ]
     },
     "execution_count": 46,
     "metadata": {},
     "output_type": "execute_result"
    }
   ],
   "source": [
    "gs_logreg_cv.best_params_"
   ]
  },
  {
   "cell_type": "code",
   "execution_count": 47,
   "metadata": {},
   "outputs": [
    {
     "data": {
      "text/plain": [
       "0.7968885490663277"
      ]
     },
     "execution_count": 47,
     "metadata": {},
     "output_type": "execute_result"
    }
   ],
   "source": [
    "gs_logreg_cv.best_score_"
   ]
  },
  {
   "cell_type": "code",
   "execution_count": 48,
   "metadata": {},
   "outputs": [
    {
     "data": {
      "text/plain": [
       "0.9985387238188017"
      ]
     },
     "execution_count": 48,
     "metadata": {},
     "output_type": "execute_result"
    }
   ],
   "source": [
    "gs_logreg_cv.score(X_stem_train, y_stem_train)"
   ]
  },
  {
   "cell_type": "code",
   "execution_count": 49,
   "metadata": {},
   "outputs": [
    {
     "data": {
      "text/plain": [
       "0.8006814310051107"
      ]
     },
     "execution_count": 49,
     "metadata": {},
     "output_type": "execute_result"
    }
   ],
   "source": [
    "gs_logreg_cv.score(X_stem_test, y_stem_test)"
   ]
  },
  {
   "cell_type": "markdown",
   "metadata": {},
   "source": [
    "## Model Selection"
   ]
  },
  {
   "cell_type": "code",
   "execution_count": 50,
   "metadata": {},
   "outputs": [
    {
     "data": {
      "text/plain": [
       "UnethicalLifeProTips    0.54389\n",
       "LifeProTips             0.45611\n",
       "Name: subreddit, dtype: float64"
      ]
     },
     "execution_count": 50,
     "metadata": {},
     "output_type": "execute_result"
    }
   ],
   "source": [
    "subreddits['subreddit'].value_counts(normalize = True)"
   ]
  },
  {
   "cell_type": "code",
   "execution_count": null,
   "metadata": {},
   "outputs": [],
   "source": []
  }
 ],
 "metadata": {
  "kernelspec": {
   "display_name": "Python 3",
   "language": "python",
   "name": "python3"
  },
  "language_info": {
   "codemirror_mode": {
    "name": "ipython",
    "version": 3
   },
   "file_extension": ".py",
   "mimetype": "text/x-python",
   "name": "python",
   "nbconvert_exporter": "python",
   "pygments_lexer": "ipython3",
   "version": "3.7.6"
  }
 },
 "nbformat": 4,
 "nbformat_minor": 4
}
