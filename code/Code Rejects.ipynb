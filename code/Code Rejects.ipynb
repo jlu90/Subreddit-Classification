{
 "cells": [
  {
   "cell_type": "code",
   "execution_count": null,
   "metadata": {},
   "outputs": [],
   "source": [
    "# From Pre-processing Notebook\n",
    "\n",
    "# Lemmatize Words and Convert Back to String\n",
    "\n",
    "lemmatizer = WordNetLemmatizer()\n",
    "\n",
    "post_lemma_tokens = []\n",
    "\n",
    "for token in post_tokens:\n",
    "    running_lemma_tokens = []\n",
    "    for word in token:\n",
    "        running_lemma_tokens.append(lemmatizer.lemmatize(word))\n",
    "    post_lemma_tokens.append(' '.join(running_lemma_tokens))\n",
    "    \n",
    "subreddits['lemma_text'] = post_lemma_tokens"
   ]
  }
 ],
 "metadata": {
  "kernelspec": {
   "display_name": "Python 3",
   "language": "python",
   "name": "python3"
  },
  "language_info": {
   "codemirror_mode": {
    "name": "ipython",
    "version": 3
   },
   "file_extension": ".py",
   "mimetype": "text/x-python",
   "name": "python",
   "nbconvert_exporter": "python",
   "pygments_lexer": "ipython3",
   "version": "3.7.6"
  }
 },
 "nbformat": 4,
 "nbformat_minor": 4
}
