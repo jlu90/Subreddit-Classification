{
 "cells": [
  {
   "cell_type": "markdown",
   "metadata": {},
   "source": [
    "# Web Scraping Using Pushshift API"
   ]
  },
  {
   "cell_type": "code",
   "execution_count": 1,
   "metadata": {},
   "outputs": [],
   "source": [
    "import pandas as pd\n",
    "import datetime as dt\n",
    "import time\n",
    "import requests"
   ]
  },
  {
   "cell_type": "markdown",
   "metadata": {},
   "source": [
    "### Scraping Function (Written by Mahdi)"
   ]
  },
  {
   "cell_type": "code",
   "execution_count": 2,
   "metadata": {},
   "outputs": [],
   "source": [
    "def query_pushshift(subreddit, kind = 'submission', hour_window = 24, n = 5):\n",
    "    SUBFIELDS = ['title', 'selftext', 'subreddit', 'created_utc', 'author', 'num_comments', 'score', 'is_self']\n",
    "    \n",
    "    # establish base url and stem\n",
    "    BASE_URL = f\"https://api.pushshift.io/reddit/search/{kind}\" # also known as the \"API endpoint\" \n",
    "    stem = f\"{BASE_URL}?subreddit={subreddit}&size=500\" # always pulling max of 500\n",
    "    \n",
    "    # instantiate empty list for temp storage\n",
    "    posts = []\n",
    "    \n",
    "    # implement for loop with `time.sleep(2)`\n",
    "    for i in range(1, n + 1):\n",
    "        URL = \"{}&after={}h\".format(stem, hour_window * i)\n",
    "        print(\"Querying from: \" + URL)\n",
    "        response = requests.get(URL)\n",
    "        assert response.status_code == 200\n",
    "        mine = response.json()['data']\n",
    "        df = pd.DataFrame.from_dict(mine)\n",
    "        posts.append(df)\n",
    "        time.sleep(6)\n",
    "    \n",
    "    # pd.concat storage list\n",
    "    full = pd.concat(posts, sort=False)\n",
    "    \n",
    "    # if submission\n",
    "    if kind == \"submission\":\n",
    "        # select desired columns\n",
    "        full = full[SUBFIELDS]\n",
    "        # drop duplicates\n",
    "        full.drop_duplicates(inplace = True)\n",
    "        # select `is_self` == True\n",
    "        full = full.loc[full['is_self'] == True]\n",
    "\n",
    "    # create `timestamp` column\n",
    "    full['timestamp'] = full[\"created_utc\"].map(dt.date.fromtimestamp)\n",
    "    \n",
    "    print(\"Query Complete!\")    \n",
    "    return full "
   ]
  },
  {
   "cell_type": "markdown",
   "metadata": {},
   "source": [
    "## Subreddit 1: Life Pro Tips"
   ]
  },
  {
   "cell_type": "code",
   "execution_count": 3,
   "metadata": {},
   "outputs": [
    {
     "name": "stdout",
     "output_type": "stream",
     "text": [
      "Querying from: https://api.pushshift.io/reddit/search/submission?subreddit=LifeProTips&size=500&after=12h\n",
      "Querying from: https://api.pushshift.io/reddit/search/submission?subreddit=LifeProTips&size=500&after=24h\n",
      "Querying from: https://api.pushshift.io/reddit/search/submission?subreddit=LifeProTips&size=500&after=36h\n",
      "Querying from: https://api.pushshift.io/reddit/search/submission?subreddit=LifeProTips&size=500&after=48h\n",
      "Querying from: https://api.pushshift.io/reddit/search/submission?subreddit=LifeProTips&size=500&after=60h\n",
      "Querying from: https://api.pushshift.io/reddit/search/submission?subreddit=LifeProTips&size=500&after=72h\n",
      "Querying from: https://api.pushshift.io/reddit/search/submission?subreddit=LifeProTips&size=500&after=84h\n",
      "Querying from: https://api.pushshift.io/reddit/search/submission?subreddit=LifeProTips&size=500&after=96h\n",
      "Querying from: https://api.pushshift.io/reddit/search/submission?subreddit=LifeProTips&size=500&after=108h\n",
      "Querying from: https://api.pushshift.io/reddit/search/submission?subreddit=LifeProTips&size=500&after=120h\n",
      "Querying from: https://api.pushshift.io/reddit/search/submission?subreddit=LifeProTips&size=500&after=132h\n",
      "Querying from: https://api.pushshift.io/reddit/search/submission?subreddit=LifeProTips&size=500&after=144h\n",
      "Querying from: https://api.pushshift.io/reddit/search/submission?subreddit=LifeProTips&size=500&after=156h\n",
      "Querying from: https://api.pushshift.io/reddit/search/submission?subreddit=LifeProTips&size=500&after=168h\n",
      "Querying from: https://api.pushshift.io/reddit/search/submission?subreddit=LifeProTips&size=500&after=180h\n",
      "Querying from: https://api.pushshift.io/reddit/search/submission?subreddit=LifeProTips&size=500&after=192h\n",
      "Querying from: https://api.pushshift.io/reddit/search/submission?subreddit=LifeProTips&size=500&after=204h\n",
      "Querying from: https://api.pushshift.io/reddit/search/submission?subreddit=LifeProTips&size=500&after=216h\n",
      "Querying from: https://api.pushshift.io/reddit/search/submission?subreddit=LifeProTips&size=500&after=228h\n",
      "Querying from: https://api.pushshift.io/reddit/search/submission?subreddit=LifeProTips&size=500&after=240h\n",
      "Querying from: https://api.pushshift.io/reddit/search/submission?subreddit=LifeProTips&size=500&after=252h\n",
      "Querying from: https://api.pushshift.io/reddit/search/submission?subreddit=LifeProTips&size=500&after=264h\n",
      "Querying from: https://api.pushshift.io/reddit/search/submission?subreddit=LifeProTips&size=500&after=276h\n",
      "Querying from: https://api.pushshift.io/reddit/search/submission?subreddit=LifeProTips&size=500&after=288h\n",
      "Querying from: https://api.pushshift.io/reddit/search/submission?subreddit=LifeProTips&size=500&after=300h\n",
      "Querying from: https://api.pushshift.io/reddit/search/submission?subreddit=LifeProTips&size=500&after=312h\n",
      "Querying from: https://api.pushshift.io/reddit/search/submission?subreddit=LifeProTips&size=500&after=324h\n",
      "Querying from: https://api.pushshift.io/reddit/search/submission?subreddit=LifeProTips&size=500&after=336h\n",
      "Querying from: https://api.pushshift.io/reddit/search/submission?subreddit=LifeProTips&size=500&after=348h\n",
      "Querying from: https://api.pushshift.io/reddit/search/submission?subreddit=LifeProTips&size=500&after=360h\n",
      "Query Complete!\n"
     ]
    }
   ],
   "source": [
    "life_pro_tips = query_pushshift('LifeProTips', kind = 'submission', hour_window = 12, n = 30) #15 days worth of data"
   ]
  },
  {
   "cell_type": "code",
   "execution_count": 6,
   "metadata": {},
   "outputs": [
    {
     "data": {
      "text/plain": [
       "(2677, 9)"
      ]
     },
     "execution_count": 6,
     "metadata": {},
     "output_type": "execute_result"
    }
   ],
   "source": [
    "life_pro_tips.shape"
   ]
  },
  {
   "cell_type": "markdown",
   "metadata": {},
   "source": [
    "## Subreddit 2: Unethical Life Pro Tips"
   ]
  },
  {
   "cell_type": "code",
   "execution_count": 16,
   "metadata": {},
   "outputs": [
    {
     "name": "stdout",
     "output_type": "stream",
     "text": [
      "Querying from: https://api.pushshift.io/reddit/search/submission?subreddit=UnethicalLifeProTips&size=500&after=168h\n",
      "Querying from: https://api.pushshift.io/reddit/search/submission?subreddit=UnethicalLifeProTips&size=500&after=336h\n",
      "Querying from: https://api.pushshift.io/reddit/search/submission?subreddit=UnethicalLifeProTips&size=500&after=504h\n",
      "Querying from: https://api.pushshift.io/reddit/search/submission?subreddit=UnethicalLifeProTips&size=500&after=672h\n",
      "Querying from: https://api.pushshift.io/reddit/search/submission?subreddit=UnethicalLifeProTips&size=500&after=840h\n",
      "Querying from: https://api.pushshift.io/reddit/search/submission?subreddit=UnethicalLifeProTips&size=500&after=1008h\n",
      "Querying from: https://api.pushshift.io/reddit/search/submission?subreddit=UnethicalLifeProTips&size=500&after=1176h\n",
      "Querying from: https://api.pushshift.io/reddit/search/submission?subreddit=UnethicalLifeProTips&size=500&after=1344h\n",
      "Querying from: https://api.pushshift.io/reddit/search/submission?subreddit=UnethicalLifeProTips&size=500&after=1512h\n",
      "Querying from: https://api.pushshift.io/reddit/search/submission?subreddit=UnethicalLifeProTips&size=500&after=1680h\n",
      "Querying from: https://api.pushshift.io/reddit/search/submission?subreddit=UnethicalLifeProTips&size=500&after=1848h\n",
      "Querying from: https://api.pushshift.io/reddit/search/submission?subreddit=UnethicalLifeProTips&size=500&after=2016h\n",
      "Querying from: https://api.pushshift.io/reddit/search/submission?subreddit=UnethicalLifeProTips&size=500&after=2184h\n",
      "Querying from: https://api.pushshift.io/reddit/search/submission?subreddit=UnethicalLifeProTips&size=500&after=2352h\n",
      "Querying from: https://api.pushshift.io/reddit/search/submission?subreddit=UnethicalLifeProTips&size=500&after=2520h\n",
      "Querying from: https://api.pushshift.io/reddit/search/submission?subreddit=UnethicalLifeProTips&size=500&after=2688h\n",
      "Querying from: https://api.pushshift.io/reddit/search/submission?subreddit=UnethicalLifeProTips&size=500&after=2856h\n",
      "Querying from: https://api.pushshift.io/reddit/search/submission?subreddit=UnethicalLifeProTips&size=500&after=3024h\n",
      "Querying from: https://api.pushshift.io/reddit/search/submission?subreddit=UnethicalLifeProTips&size=500&after=3192h\n",
      "Querying from: https://api.pushshift.io/reddit/search/submission?subreddit=UnethicalLifeProTips&size=500&after=3360h\n",
      "Querying from: https://api.pushshift.io/reddit/search/submission?subreddit=UnethicalLifeProTips&size=500&after=3528h\n",
      "Querying from: https://api.pushshift.io/reddit/search/submission?subreddit=UnethicalLifeProTips&size=500&after=3696h\n",
      "Querying from: https://api.pushshift.io/reddit/search/submission?subreddit=UnethicalLifeProTips&size=500&after=3864h\n",
      "Querying from: https://api.pushshift.io/reddit/search/submission?subreddit=UnethicalLifeProTips&size=500&after=4032h\n",
      "Querying from: https://api.pushshift.io/reddit/search/submission?subreddit=UnethicalLifeProTips&size=500&after=4200h\n",
      "Querying from: https://api.pushshift.io/reddit/search/submission?subreddit=UnethicalLifeProTips&size=500&after=4368h\n",
      "Querying from: https://api.pushshift.io/reddit/search/submission?subreddit=UnethicalLifeProTips&size=500&after=4536h\n",
      "Querying from: https://api.pushshift.io/reddit/search/submission?subreddit=UnethicalLifeProTips&size=500&after=4704h\n",
      "Querying from: https://api.pushshift.io/reddit/search/submission?subreddit=UnethicalLifeProTips&size=500&after=4872h\n",
      "Querying from: https://api.pushshift.io/reddit/search/submission?subreddit=UnethicalLifeProTips&size=500&after=5040h\n",
      "Querying from: https://api.pushshift.io/reddit/search/submission?subreddit=UnethicalLifeProTips&size=500&after=5208h\n",
      "Querying from: https://api.pushshift.io/reddit/search/submission?subreddit=UnethicalLifeProTips&size=500&after=5376h\n",
      "Querying from: https://api.pushshift.io/reddit/search/submission?subreddit=UnethicalLifeProTips&size=500&after=5544h\n",
      "Querying from: https://api.pushshift.io/reddit/search/submission?subreddit=UnethicalLifeProTips&size=500&after=5712h\n",
      "Querying from: https://api.pushshift.io/reddit/search/submission?subreddit=UnethicalLifeProTips&size=500&after=5880h\n",
      "Querying from: https://api.pushshift.io/reddit/search/submission?subreddit=UnethicalLifeProTips&size=500&after=6048h\n",
      "Querying from: https://api.pushshift.io/reddit/search/submission?subreddit=UnethicalLifeProTips&size=500&after=6216h\n",
      "Querying from: https://api.pushshift.io/reddit/search/submission?subreddit=UnethicalLifeProTips&size=500&after=6384h\n",
      "Querying from: https://api.pushshift.io/reddit/search/submission?subreddit=UnethicalLifeProTips&size=500&after=6552h\n",
      "Querying from: https://api.pushshift.io/reddit/search/submission?subreddit=UnethicalLifeProTips&size=500&after=6720h\n",
      "Query Complete!\n"
     ]
    }
   ],
   "source": [
    "# Will oversample unethical LPTs to be able to remove 'Requests'\n",
    "\n",
    "ue_life_pro_tips = query_pushshift('UnethicalLifeProTips', kind = 'submission', hour_window = 168, n = 40) # Scraping 1 week at a time"
   ]
  },
  {
   "cell_type": "code",
   "execution_count": 17,
   "metadata": {},
   "outputs": [
    {
     "data": {
      "text/plain": [
       "(3961, 9)"
      ]
     },
     "execution_count": 17,
     "metadata": {},
     "output_type": "execute_result"
    }
   ],
   "source": [
    "ue_life_pro_tips.shape"
   ]
  },
  {
   "cell_type": "markdown",
   "metadata": {},
   "source": [
    "## Concatenate Subreddit Data Frames"
   ]
  },
  {
   "cell_type": "code",
   "execution_count": 18,
   "metadata": {},
   "outputs": [],
   "source": [
    "both_subreddits = pd.concat([life_pro_tips, ue_life_pro_tips])"
   ]
  },
  {
   "cell_type": "code",
   "execution_count": 19,
   "metadata": {},
   "outputs": [
    {
     "data": {
      "text/plain": [
       "UnethicalLifeProTips    0.596716\n",
       "LifeProTips             0.403284\n",
       "Name: subreddit, dtype: float64"
      ]
     },
     "execution_count": 19,
     "metadata": {},
     "output_type": "execute_result"
    }
   ],
   "source": [
    "both_subreddits['subreddit'].value_counts(normalize = True)"
   ]
  },
  {
   "cell_type": "markdown",
   "metadata": {},
   "source": [
    "Although the value counts are pretty dissimilar right now, the Unethical Life Pro Tips subreddit contains alot of posts that requests for advice. I will remove these posts from the data frame. "
   ]
  },
  {
   "cell_type": "markdown",
   "metadata": {},
   "source": [
    "## Export to csv"
   ]
  },
  {
   "cell_type": "code",
   "execution_count": 20,
   "metadata": {},
   "outputs": [],
   "source": [
    "both_subreddits.to_csv('../data/subreddits.csv')"
   ]
  }
 ],
 "metadata": {
  "kernelspec": {
   "display_name": "Python 3",
   "language": "python",
   "name": "python3"
  },
  "language_info": {
   "codemirror_mode": {
    "name": "ipython",
    "version": 3
   },
   "file_extension": ".py",
   "mimetype": "text/x-python",
   "name": "python",
   "nbconvert_exporter": "python",
   "pygments_lexer": "ipython3",
   "version": "3.7.6"
  }
 },
 "nbformat": 4,
 "nbformat_minor": 4
}
