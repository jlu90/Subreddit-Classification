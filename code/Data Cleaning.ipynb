{
 "cells": [
  {
   "cell_type": "markdown",
   "metadata": {},
   "source": [
    "# Data Cleaning and Text Preprocessing Notebook"
   ]
  },
  {
   "cell_type": "markdown",
   "metadata": {},
   "source": [
    "## Imports"
   ]
  },
  {
   "cell_type": "code",
   "execution_count": 1,
   "metadata": {},
   "outputs": [],
   "source": [
    "import pandas as pd\n",
    "import numpy as np\n",
    "import matplotlib.pyplot as plt\n",
    "import seaborn as sns\n",
    "import spacy\n",
    "import nltk"
   ]
  },
  {
   "cell_type": "markdown",
   "metadata": {},
   "source": [
    "## Read-In Data"
   ]
  },
  {
   "cell_type": "code",
   "execution_count": 2,
   "metadata": {},
   "outputs": [],
   "source": [
    "subreddits = pd.read_csv('../data/subreddits.csv')"
   ]
  },
  {
   "cell_type": "code",
   "execution_count": 21,
   "metadata": {},
   "outputs": [
    {
     "data": {
      "text/html": [
       "<div>\n",
       "<style scoped>\n",
       "    .dataframe tbody tr th:only-of-type {\n",
       "        vertical-align: middle;\n",
       "    }\n",
       "\n",
       "    .dataframe tbody tr th {\n",
       "        vertical-align: top;\n",
       "    }\n",
       "\n",
       "    .dataframe thead th {\n",
       "        text-align: right;\n",
       "    }\n",
       "</style>\n",
       "<table border=\"1\" class=\"dataframe\">\n",
       "  <thead>\n",
       "    <tr style=\"text-align: right;\">\n",
       "      <th></th>\n",
       "      <th>title</th>\n",
       "      <th>selftext</th>\n",
       "      <th>subreddit</th>\n",
       "      <th>author</th>\n",
       "      <th>num_comments</th>\n",
       "      <th>score</th>\n",
       "      <th>timestamp</th>\n",
       "    </tr>\n",
       "  </thead>\n",
       "  <tbody>\n",
       "    <tr>\n",
       "      <th>0</th>\n",
       "      <td>LPT: Answers to why</td>\n",
       "      <td>[removed]</td>\n",
       "      <td>LifeProTips</td>\n",
       "      <td>AlienAgency</td>\n",
       "      <td>2</td>\n",
       "      <td>1</td>\n",
       "      <td>2020-07-17</td>\n",
       "    </tr>\n",
       "    <tr>\n",
       "      <th>1</th>\n",
       "      <td>¿Quieres obtener juegos y premios gratis en tu...</td>\n",
       "      <td>[removed]</td>\n",
       "      <td>LifeProTips</td>\n",
       "      <td>GarbageMiserable0x0</td>\n",
       "      <td>2</td>\n",
       "      <td>1</td>\n",
       "      <td>2020-07-17</td>\n",
       "    </tr>\n",
       "  </tbody>\n",
       "</table>\n",
       "</div>"
      ],
      "text/plain": [
       "                                               title   selftext    subreddit  \\\n",
       "0                                LPT: Answers to why  [removed]  LifeProTips   \n",
       "1  ¿Quieres obtener juegos y premios gratis en tu...  [removed]  LifeProTips   \n",
       "\n",
       "                author  num_comments  score   timestamp  \n",
       "0          AlienAgency             2      1  2020-07-17  \n",
       "1  GarbageMiserable0x0             2      1  2020-07-17  "
      ]
     },
     "execution_count": 21,
     "metadata": {},
     "output_type": "execute_result"
    }
   ],
   "source": [
    "subreddits.head(2)"
   ]
  },
  {
   "cell_type": "markdown",
   "metadata": {},
   "source": [
    "## Data Cleaning\n",
    "\n",
    "### Drop Unnecessary Columns"
   ]
  },
  {
   "cell_type": "markdown",
   "metadata": {},
   "source": [
    "#### Drop 'Unnamed: 0'"
   ]
  },
  {
   "cell_type": "code",
   "execution_count": 4,
   "metadata": {},
   "outputs": [],
   "source": [
    "subreddits.drop(columns = 'Unnamed: 0', inplace = True)"
   ]
  },
  {
   "cell_type": "markdown",
   "metadata": {},
   "source": [
    "#### Drop 'created_utc' column and 'is_self' columns"
   ]
  },
  {
   "cell_type": "code",
   "execution_count": 5,
   "metadata": {},
   "outputs": [],
   "source": [
    "subreddits.drop(columns = ['created_utc', 'is_self'], inplace = True)"
   ]
  },
  {
   "cell_type": "markdown",
   "metadata": {},
   "source": [
    "### Remove 'UPLT Requests' "
   ]
  },
  {
   "cell_type": "code",
   "execution_count": 6,
   "metadata": {},
   "outputs": [],
   "source": [
    "for index, title in enumerate(subreddits['title']):\n",
    "    if 'ulpt request' in title.lower():\n",
    "        subreddits.drop(index, inplace = True)"
   ]
  },
  {
   "cell_type": "markdown",
   "metadata": {},
   "source": [
    "### Clean Title Column"
   ]
  },
  {
   "cell_type": "code",
   "execution_count": 47,
   "metadata": {},
   "outputs": [
    {
     "data": {
      "text/html": [
       "<div>\n",
       "<style scoped>\n",
       "    .dataframe tbody tr th:only-of-type {\n",
       "        vertical-align: middle;\n",
       "    }\n",
       "\n",
       "    .dataframe tbody tr th {\n",
       "        vertical-align: top;\n",
       "    }\n",
       "\n",
       "    .dataframe thead th {\n",
       "        text-align: right;\n",
       "    }\n",
       "</style>\n",
       "<table border=\"1\" class=\"dataframe\">\n",
       "  <thead>\n",
       "    <tr style=\"text-align: right;\">\n",
       "      <th></th>\n",
       "      <th>title</th>\n",
       "      <th>selftext</th>\n",
       "      <th>subreddit</th>\n",
       "      <th>author</th>\n",
       "      <th>num_comments</th>\n",
       "      <th>score</th>\n",
       "      <th>timestamp</th>\n",
       "    </tr>\n",
       "  </thead>\n",
       "  <tbody>\n",
       "  </tbody>\n",
       "</table>\n",
       "</div>"
      ],
      "text/plain": [
       "Empty DataFrame\n",
       "Columns: [title, selftext, subreddit, author, num_comments, score, timestamp]\n",
       "Index: []"
      ]
     },
     "execution_count": 47,
     "metadata": {},
     "output_type": "execute_result"
    }
   ],
   "source": []
  },
  {
   "cell_type": "markdown",
   "metadata": {},
   "source": [
    "### Clean 'SelfText' Column"
   ]
  },
  {
   "cell_type": "code",
   "execution_count": 44,
   "metadata": {},
   "outputs": [],
   "source": [
    "subreddits['selftext'].fillna('', inplace = True)\n",
    "subreddits['selftext'] = subreddits['selftext'].str.replace('\\[removed\\]', '')\n",
    "subreddits['selftext'] = subreddits['selftext'].str.replace('\\[\\]', '')"
   ]
  },
  {
   "cell_type": "markdown",
   "metadata": {},
   "source": [
    "## Export Clean Data"
   ]
  },
  {
   "cell_type": "code",
   "execution_count": 26,
   "metadata": {},
   "outputs": [
    {
     "data": {
      "text/plain": [
       "0                                               [removed]\n",
       "1                                               [removed]\n",
       "2                                               [removed]\n",
       "3       They could have a number of problems going on,...\n",
       "4                                               [removed]\n",
       "                              ...                        \n",
       "6632                                            [removed]\n",
       "6633                                                     \n",
       "6634    Former credit analyst here. 9/10 they will not...\n",
       "6636                                                     \n",
       "6638    Use an email of someone you don't like or use ...\n",
       "Name: selftext, Length: 5872, dtype: object"
      ]
     },
     "execution_count": 26,
     "metadata": {},
     "output_type": "execute_result"
    }
   ],
   "source": [
    "subreddits['selftext']"
   ]
  },
  {
   "cell_type": "code",
   "execution_count": 49,
   "metadata": {},
   "outputs": [
    {
     "data": {
      "text/html": [
       "<div>\n",
       "<style scoped>\n",
       "    .dataframe tbody tr th:only-of-type {\n",
       "        vertical-align: middle;\n",
       "    }\n",
       "\n",
       "    .dataframe tbody tr th {\n",
       "        vertical-align: top;\n",
       "    }\n",
       "\n",
       "    .dataframe thead th {\n",
       "        text-align: right;\n",
       "    }\n",
       "</style>\n",
       "<table border=\"1\" class=\"dataframe\">\n",
       "  <thead>\n",
       "    <tr style=\"text-align: right;\">\n",
       "      <th></th>\n",
       "      <th>title</th>\n",
       "      <th>selftext</th>\n",
       "      <th>subreddit</th>\n",
       "      <th>author</th>\n",
       "      <th>num_comments</th>\n",
       "      <th>score</th>\n",
       "      <th>timestamp</th>\n",
       "    </tr>\n",
       "  </thead>\n",
       "  <tbody>\n",
       "    <tr>\n",
       "      <th>0</th>\n",
       "      <td>LPT: Answers to why</td>\n",
       "      <td></td>\n",
       "      <td>LifeProTips</td>\n",
       "      <td>AlienAgency</td>\n",
       "      <td>2</td>\n",
       "      <td>1</td>\n",
       "      <td>2020-07-17</td>\n",
       "    </tr>\n",
       "    <tr>\n",
       "      <th>1</th>\n",
       "      <td>¿Quieres obtener juegos y premios gratis en tu...</td>\n",
       "      <td></td>\n",
       "      <td>LifeProTips</td>\n",
       "      <td>GarbageMiserable0x0</td>\n",
       "      <td>2</td>\n",
       "      <td>1</td>\n",
       "      <td>2020-07-17</td>\n",
       "    </tr>\n",
       "    <tr>\n",
       "      <th>2</th>\n",
       "      <td>LPT: Soothe digestion with lemongrass</td>\n",
       "      <td></td>\n",
       "      <td>LifeProTips</td>\n",
       "      <td>thaigrrrrrrr</td>\n",
       "      <td>2</td>\n",
       "      <td>1</td>\n",
       "      <td>2020-07-17</td>\n",
       "    </tr>\n",
       "    <tr>\n",
       "      <th>3</th>\n",
       "      <td>LPT:If your dog is panting a lot when you thin...</td>\n",
       "      <td>Thy cul ha a nub f pbls ging n, incluing pisni...</td>\n",
       "      <td>LifeProTips</td>\n",
       "      <td>CaptainJon720</td>\n",
       "      <td>7</td>\n",
       "      <td>1</td>\n",
       "      <td>2020-07-17</td>\n",
       "    </tr>\n",
       "    <tr>\n",
       "      <th>4</th>\n",
       "      <td>If you're ever lonely, try writing. Whether it...</td>\n",
       "      <td></td>\n",
       "      <td>LifeProTips</td>\n",
       "      <td>EJRose83</td>\n",
       "      <td>2</td>\n",
       "      <td>1</td>\n",
       "      <td>2020-07-17</td>\n",
       "    </tr>\n",
       "    <tr>\n",
       "      <th>...</th>\n",
       "      <td>...</td>\n",
       "      <td>...</td>\n",
       "      <td>...</td>\n",
       "      <td>...</td>\n",
       "      <td>...</td>\n",
       "      <td>...</td>\n",
       "      <td>...</td>\n",
       "    </tr>\n",
       "    <tr>\n",
       "      <th>6632</th>\n",
       "      <td>Want free cake?</td>\n",
       "      <td></td>\n",
       "      <td>UnethicalLifeProTips</td>\n",
       "      <td>youdecidemyusername1</td>\n",
       "      <td>2</td>\n",
       "      <td>1</td>\n",
       "      <td>2019-10-14</td>\n",
       "    </tr>\n",
       "    <tr>\n",
       "      <th>6633</th>\n",
       "      <td>ULPT: While doing online shopping, select the ...</td>\n",
       "      <td></td>\n",
       "      <td>UnethicalLifeProTips</td>\n",
       "      <td>yesthatisfalse</td>\n",
       "      <td>0</td>\n",
       "      <td>3</td>\n",
       "      <td>2019-10-14</td>\n",
       "    </tr>\n",
       "    <tr>\n",
       "      <th>6634</th>\n",
       "      <td>ULPT: Lie about your income on credit card app...</td>\n",
       "      <td>F cit analyst h. 9/10 thy will nt actually ty ...</td>\n",
       "      <td>UnethicalLifeProTips</td>\n",
       "      <td>sadcthulu</td>\n",
       "      <td>2</td>\n",
       "      <td>4</td>\n",
       "      <td>2019-10-14</td>\n",
       "    </tr>\n",
       "    <tr>\n",
       "      <th>6636</th>\n",
       "      <td>ULPT: if you ever see someone you don't like l...</td>\n",
       "      <td></td>\n",
       "      <td>UnethicalLifeProTips</td>\n",
       "      <td>IFoughtThereforeIWas</td>\n",
       "      <td>3</td>\n",
       "      <td>0</td>\n",
       "      <td>2019-10-14</td>\n",
       "    </tr>\n",
       "    <tr>\n",
       "      <th>6638</th>\n",
       "      <td>ULPT: When Free WiFi that asks for email...</td>\n",
       "      <td>Us an ail f sn yu n't lik  us th suppt ail f a...</td>\n",
       "      <td>UnethicalLifeProTips</td>\n",
       "      <td>yeahboo</td>\n",
       "      <td>2</td>\n",
       "      <td>1</td>\n",
       "      <td>2019-10-14</td>\n",
       "    </tr>\n",
       "  </tbody>\n",
       "</table>\n",
       "<p>5872 rows × 7 columns</p>\n",
       "</div>"
      ],
      "text/plain": [
       "                                                  title  \\\n",
       "0                                   LPT: Answers to why   \n",
       "1     ¿Quieres obtener juegos y premios gratis en tu...   \n",
       "2                 LPT: Soothe digestion with lemongrass   \n",
       "3     LPT:If your dog is panting a lot when you thin...   \n",
       "4     If you're ever lonely, try writing. Whether it...   \n",
       "...                                                 ...   \n",
       "6632                                    Want free cake?   \n",
       "6633  ULPT: While doing online shopping, select the ...   \n",
       "6634  ULPT: Lie about your income on credit card app...   \n",
       "6636  ULPT: if you ever see someone you don't like l...   \n",
       "6638        ULPT: When Free WiFi that asks for email...   \n",
       "\n",
       "                                               selftext             subreddit  \\\n",
       "0                                                                 LifeProTips   \n",
       "1                                                                 LifeProTips   \n",
       "2                                                                 LifeProTips   \n",
       "3     Thy cul ha a nub f pbls ging n, incluing pisni...           LifeProTips   \n",
       "4                                                                 LifeProTips   \n",
       "...                                                 ...                   ...   \n",
       "6632                                                     UnethicalLifeProTips   \n",
       "6633                                                     UnethicalLifeProTips   \n",
       "6634  F cit analyst h. 9/10 thy will nt actually ty ...  UnethicalLifeProTips   \n",
       "6636                                                     UnethicalLifeProTips   \n",
       "6638  Us an ail f sn yu n't lik  us th suppt ail f a...  UnethicalLifeProTips   \n",
       "\n",
       "                    author  num_comments  score   timestamp  \n",
       "0              AlienAgency             2      1  2020-07-17  \n",
       "1      GarbageMiserable0x0             2      1  2020-07-17  \n",
       "2             thaigrrrrrrr             2      1  2020-07-17  \n",
       "3            CaptainJon720             7      1  2020-07-17  \n",
       "4                 EJRose83             2      1  2020-07-17  \n",
       "...                    ...           ...    ...         ...  \n",
       "6632  youdecidemyusername1             2      1  2019-10-14  \n",
       "6633        yesthatisfalse             0      3  2019-10-14  \n",
       "6634             sadcthulu             2      4  2019-10-14  \n",
       "6636  IFoughtThereforeIWas             3      0  2019-10-14  \n",
       "6638               yeahboo             2      1  2019-10-14  \n",
       "\n",
       "[5872 rows x 7 columns]"
      ]
     },
     "execution_count": 49,
     "metadata": {},
     "output_type": "execute_result"
    }
   ],
   "source": [
    "subreddits"
   ]
  },
  {
   "cell_type": "code",
   "execution_count": null,
   "metadata": {},
   "outputs": [],
   "source": []
  }
 ],
 "metadata": {
  "kernelspec": {
   "display_name": "Python 3",
   "language": "python",
   "name": "python3"
  },
  "language_info": {
   "codemirror_mode": {
    "name": "ipython",
    "version": 3
   },
   "file_extension": ".py",
   "mimetype": "text/x-python",
   "name": "python",
   "nbconvert_exporter": "python",
   "pygments_lexer": "ipython3",
   "version": "3.7.7"
  }
 },
 "nbformat": 4,
 "nbformat_minor": 4
}
